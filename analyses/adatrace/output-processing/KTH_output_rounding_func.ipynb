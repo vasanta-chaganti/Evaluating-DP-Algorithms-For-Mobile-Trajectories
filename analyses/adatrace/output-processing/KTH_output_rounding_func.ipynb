{
 "cells": [
  {
   "cell_type": "code",
   "execution_count": 1,
   "id": "fc3156f6",
   "metadata": {},
   "outputs": [],
   "source": [
    "import os"
   ]
  },
  {
   "cell_type": "code",
   "execution_count": 12,
   "id": "31084572",
   "metadata": {},
   "outputs": [],
   "source": [
    "# please change this path to the output dir\n",
    "path = '/home/KTH-traces/AdaTrace/Outputs/kth/full_day/building_level/budget_markov/'"
   ]
  },
  {
   "cell_type": "code",
   "execution_count": 2,
   "id": "475125b1",
   "metadata": {},
   "outputs": [],
   "source": [
    "dates = [\"03-03\", \"04-28\", \"09-15\", \"12-08\"]\n",
    "epsilons = [0.1, 1.0, 5.0, 10.0, 20.0, 50.0]"
   ]
  },
  {
   "cell_type": "code",
   "execution_count": 3,
   "id": "a3ab02b6",
   "metadata": {},
   "outputs": [],
   "source": [
    "def round_up(x):\n",
    "    return int(x + 0.5)\n"
   ]
  },
  {
   "cell_type": "code",
   "execution_count": 4,
   "id": "cb4fc267",
   "metadata": {},
   "outputs": [],
   "source": [
    "def converter(date, totalEpsilon):\n",
    "    # Input and output file names\n",
    "    input_file = path + date + \"_output/\" + date + \"_eps\" + str(totalEpsilon) + \".dat\"\n",
    "    output_file = path + date + \"_output_rounded/\" + date + \"_eps\" + str(totalEpsilon) + '_rounded.dat'\n",
    "    \n",
    "    # mkdir if the dir in the output_file did not exist\n",
    "    directory = os.path.dirname(output_file)\n",
    "    if not os.path.exists(directory):\n",
    "        os.makedirs(directory)\n",
    "\n",
    "    with open(input_file, 'r') as file:\n",
    "        lines = file.readlines()\n",
    "\n",
    "    with open(output_file, 'w') as file:            \n",
    "        trajectory_count = 0\n",
    "        for line in lines:\n",
    "            if line.startswith(\"#\"):\n",
    "                file.write(line)\n",
    "            elif line.startswith(\">\"):\n",
    "                # Process lines with values to round up\n",
    "                trajectory_count += 1\n",
    "                rounded_line = \"\"\n",
    "                values = line.strip().split(\":\")[1].strip(\";\").split(\";\")\n",
    "                for value in values:\n",
    "                    x, y = value.split(\",\")\n",
    "                    x_rounded = round_up(float(x))\n",
    "                    y_rounded = round_up(float(y))\n",
    "                    rounded_line += f\"{x_rounded},{y_rounded};\"\n",
    "                file.write(f\">0:{rounded_line}\\n\")"
   ]
  },
  {
   "cell_type": "code",
   "execution_count": 13,
   "id": "35396a86",
   "metadata": {},
   "outputs": [],
   "source": [
    "for totalEpsilon in epsilons:\n",
    "    for date in dates:\n",
    "        converter(date, totalEpsilon)"
   ]
  }
 ],
 "metadata": {
  "kernelspec": {
   "display_name": "Python 3 (ipykernel)",
   "language": "python",
   "name": "python3"
  },
  "language_info": {
   "codemirror_mode": {
    "name": "ipython",
    "version": 3
   },
   "file_extension": ".py",
   "mimetype": "text/x-python",
   "name": "python",
   "nbconvert_exporter": "python",
   "pygments_lexer": "ipython3",
   "version": "3.10.12"
  }
 },
 "nbformat": 4,
 "nbformat_minor": 5
}
