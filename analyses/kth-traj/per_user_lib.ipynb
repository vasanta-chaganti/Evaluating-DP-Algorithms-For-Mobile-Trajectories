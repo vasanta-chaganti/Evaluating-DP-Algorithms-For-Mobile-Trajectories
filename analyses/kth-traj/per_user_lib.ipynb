{
 "cells": [
  {
   "cell_type": "markdown",
   "id": "b9fcd811-e863-4900-b545-f45f4b3fd1f9",
   "metadata": {},
   "source": [
    "# Plot One Person's Trajectory"
   ]
  },
  {
   "cell_type": "code",
   "execution_count": 1,
   "id": "4d9f3832-ed4f-4ed0-89cd-93cd166213ba",
   "metadata": {},
   "outputs": [],
   "source": [
    "def plot_traj(path, client, start, end):\n",
    "    \"\"\"\n",
    "    This function plots out one person's trajectory during start and end time\n",
    "    Inputs:\n",
    "        path = the pathname for the data file (string)\n",
    "        client = id of the client\n",
    "        start = start timestamp\n",
    "        end = end timestamp\n",
    "    Outputs:\n",
    "        Plot Timestamp vs. APs visited for the client from start to end time\n",
    "        Plot a 3D graph of the client's trajectory\n",
    "    \"\"\"\n",
    "    \n",
    "    aps = pd.read_csv(\"/local/traceset1/APlocations.txt\", sep=\",\")\n",
    "    df = pd.read_csv(path, header='infer')\n",
    "    \n",
    "    # query for one person\n",
    "    one_client = df.query('client == @client')\n",
    "    # converting timestamp\n",
    "    trace = one_client[[\"timestamp\", \"AP\"]].copy()\n",
    "    trace['timestamp'] = pd.to_datetime(trace['timestamp'])\n",
    "    # Convert string to datetime format\n",
    "    start1 = pd.to_datetime(start)\n",
    "    end1 = pd.to_datetime(end)\n",
    "    # filtered data between start1 and end1\n",
    "    mask = (start1<trace['timestamp']) & (end1>trace['timestamp'])\n",
    "    one_day = trace.loc[mask]\n",
    "    # plot timestamp vs. APs\n",
    "    one_day.plot.scatter(x='AP', y = 'timestamp', title = 'Trajectory Plot of One Client in One Day') \n",
    "    \n",
    "    # merge\n",
    "    df_m = pd.merge(trace, aps, on='AP', how=\"left\")\n",
    "    df_m['timestamp'] = pd.to_datetime(df_m['timestamp']).astype('int64')\n",
    "    fig = plt.figure()\n",
    "    ax = fig.add_subplot(111, projection='3d')\n",
    "    ax.scatter3D(df_m['x_coordinate(m)'], df_m['y_coordinate(m)'], df_m['timestamp'])\n",
    "    ax.set_xlabel('x_coordinate(m)')\n",
    "    ax.set_ylabel('y_coordinate(m)')\n",
    "    ax.set_zlabel('timestamp')\n",
    "    ax.set_title('3D plot of client')\n",
    "    plt.show"
   ]
  },
  {
   "cell_type": "markdown",
   "id": "5988c1d7-113e-43d1-959b-2aad078fde64",
   "metadata": {},
   "source": [
    "# All APs visited by One Person in a Month"
   ]
  },
  {
   "cell_type": "code",
   "execution_count": 2,
   "id": "a1562ee0-98e8-4e59-a676-59634f7a2920",
   "metadata": {},
   "outputs": [],
   "source": [
    "def one_client_aps(path, id):\n",
    "    \"\"\"\n",
    "    This function finds all the APs visited by one person in a month\n",
    "    Inputs:\n",
    "        path = the pathname for the data file\n",
    "        id = id of the client\n",
    "    Outputs:\n",
    "        All APs visited by the client\n",
    "    \"\"\"\n",
    "    \n",
    "    df = pd.read_csv(path, header='infer')\n",
    "    prsn_data = df.query('client == @id')\n",
    "    return prsn_data.AP"
   ]
  },
  {
   "cell_type": "markdown",
   "id": "fbd50136-2bec-4ae1-a8ad-a0b71327682a",
   "metadata": {},
   "source": [
    "# Plot One User's Trajectory with Line"
   ]
  },
  {
   "cell_type": "code",
   "execution_count": 3,
   "id": "6adb7b91-1e67-4c25-87d0-f1ccb7a51b71",
   "metadata": {},
   "outputs": [],
   "source": [
    "def plot_traj_line(path, client, start, end):\n",
    "    \"\"\"\n",
    "    This function plots out one person's trajectory during start and end time\n",
    "    Inputs:\n",
    "        path = the pathname for the data file (string)\n",
    "        client = id of the client\n",
    "        start = start timestamp\n",
    "        end = end timestamp\n",
    "    Outputs:\n",
    "        Plot trajectory of one client using y and x coordinates in a line graph.\n",
    "    \"\"\"\n",
    "    \n",
    "    aps = pd.read_csv(\"/local/traceset1/APlocations.txt\", sep=\",\")\n",
    "    df = pd.read_csv(path, header='infer')\n",
    "    \n",
    "    # query for one person\n",
    "    one_client = df.query('client == @client')\n",
    "    # converting timestamp\n",
    "    trace = one_client[[\"timestamp\", \"AP\"]].copy()\n",
    "    trace['timestamp'] = pd.to_datetime(trace['timestamp'])\n",
    "    # Convert string to datetime format\n",
    "    start1 = pd.to_datetime(start)\n",
    "    end1 = pd.to_datetime(end)\n",
    "    # filtered data between start1 and end1\n",
    "    mask = (start1<trace['timestamp']) & (end1>trace['timestamp'])\n",
    "    trace_filtered = trace.loc[mask]\n",
    "    \n",
    "    # merge trace with ap locations\n",
    "    df_m = pd.merge(trace_filtered, aps, on='AP', how=\"left\")\n",
    "    \n",
    "    # plot line graph of one user's trace\n",
    "    df_m.plot(x='x_coordinate(m)', y='y_coordinate(m)', title='One Client\\'s Trace', linestyle='dotted', ylabel='y_coordinate(m)')"
   ]
  }
 ],
 "metadata": {
  "kernelspec": {
   "display_name": "Python 3 (ipykernel)",
   "language": "python",
   "name": "python3"
  },
  "language_info": {
   "codemirror_mode": {
    "name": "ipython",
    "version": 3
   },
   "file_extension": ".py",
   "mimetype": "text/x-python",
   "name": "python",
   "nbconvert_exporter": "python",
   "pygments_lexer": "ipython3",
   "version": "3.10.6"
  }
 },
 "nbformat": 4,
 "nbformat_minor": 5
}
