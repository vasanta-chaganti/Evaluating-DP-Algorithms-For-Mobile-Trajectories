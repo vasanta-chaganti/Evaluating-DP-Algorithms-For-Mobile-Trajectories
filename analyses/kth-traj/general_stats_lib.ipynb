{
 "cells": [
  {
   "cell_type": "code",
   "execution_count": 3,
   "id": "4543f71a-485a-408c-86fb-32692ba5572f",
   "metadata": {},
   "outputs": [],
   "source": [
    "def top_10_ap(path, freq):\n",
    "    \"\"\"\n",
    "    This function plots out the top 10 Ap's with most/least traffic within a month.\n",
    "    Inputs:\n",
    "        path = the pathname for the data file (string)\n",
    "        freq = the frequency of vistis, either \"most\" or \"least\" (string)\n",
    "    Side effects:\n",
    "        plots out the top 10 Ap's with most/least traffic\n",
    "    \"\"\"\n",
    "    \n",
    "    aps = pd.read_csv(\"/local/traceset1/APlocations.txt\", sep=\",\")\n",
    "    df = pd.read_csv(path, header='infer')\n",
    "    \n",
    "    visits = df[\"AP\"].value_counts() \n",
    "    \n",
    "    if freq == \"most\":\n",
    "        top10 = visits.nlargest(10)\n",
    "        plot = top10.plot.bar(x = \"Buildings\", y = \"# of Visits/Month\", title = \"Top 10 Ap's with most traffic\")\n",
    "        plot.bar_label(plot.containers[0])\n",
    "    else:\n",
    "        top10 = visits.nsmallest(10)\n",
    "        plot = top10.plot.bar(x = \"Buildings\", y = \"# of Visits/Month\", title = \"Top 10 Ap's with least traffic\")\n",
    "        plot.bar_label(plot.containers[0])"
   ]
  },
  {
   "cell_type": "code",
   "execution_count": 4,
   "id": "c1427b4c-c9fd-467f-8b8b-79ae68391565",
   "metadata": {},
   "outputs": [],
   "source": [
    "def people_per_day(path):\n",
    "    \"\"\"\n",
    "    This function plots out the number of people on campus for a given month.\n",
    "    Inputs:\n",
    "        path = the pathname for the data file (string)\n",
    "    Side effects:\n",
    "        plots out the daily people traffic for a month\n",
    "    \"\"\"\n",
    "    \n",
    "    aps = pd.read_csv(\"/local/traceset1/APlocations.txt\", sep=\",\")\n",
    "    df = pd.read_csv(path, header='infer')\n",
    "    \n",
    "    df[\"timestamp\"] = pd.to_datetime(df[\"timestamp\"])\n",
    "    daily = df.groupby(pd.Grouper(key=\"timestamp\", freq=\"24H\"))\n",
    "    visits_day = daily.AP.count()\n",
    "    plot = visits_day.plot.bar(x = \"Days\", y = \"# of Visits/Month\", title = \"Amount of traffic per day\")"
   ]
  },
  {
   "cell_type": "code",
   "execution_count": 11,
   "id": "06b3616f-311f-4c4a-b668-9e44cdffd623",
   "metadata": {},
   "outputs": [],
   "source": [
    "def people_per_hour(path, start, end):\n",
    "    \"\"\"\n",
    "    This function plots out the number of people on campus for a given day.\n",
    "    Inputs:\n",
    "        path = the pathname for the data file (string)\n",
    "        start = start timestamp (datetime)\n",
    "        end = end timestamp (datetime)\n",
    "    Side effects:\n",
    "        plots out the hourly people traffic for a day\n",
    "    \"\"\"\n",
    "    \n",
    "    df = pd.read_csv(path, header='infer')\n",
    "    \n",
    "    df[\"timestamp\"] = pd.to_datetime(df[\"timestamp\"])\n",
    "    daily = df.query(\"timestamp > @start & timestamp < @end\")\n",
    "    hourly = daily.groupby(pd.Grouper(key=\"timestamp\", freq=\"1H\"))\n",
    "    visits_hour = hourly.AP.count()\n",
    "    plot = visits_hour.plot.bar(x = \"Hours\", y = \"# of Visits/Hour\", title = \"Amount of traffic per hour\")\n",
    "    "
   ]
  },
  {
   "cell_type": "code",
   "execution_count": 12,
   "id": "2bcd1ddf-b941-4afa-b67b-fbae2bf8cfa4",
   "metadata": {},
   "outputs": [],
   "source": [
    "def ap_traffic(path, bldg, ap, start, end):\n",
    "    \"\"\"\n",
    "    This function plots out the traffic of a specific ap over the given time.\n",
    "    Inputs:\n",
    "        path = the pathname for the data file (string)\n",
    "        bldg = building number\n",
    "        ap = ap number\n",
    "        start = start datetime\n",
    "        end = end datetime\n",
    "    Side effects:\n",
    "        plots out the traffic of a specific ap over the given time\n",
    "    \"\"\"\n",
    "    \n",
    "    df = pd.read_csv(path, header='infer')\n",
    "    \n",
    "    df[\"timestamp\"] = pd.to_datetime(df[\"timestamp\"])\n",
    "    \n",
    "    search = \"Bldg\" + str(bldg) + \"AP\" + str(ap)\n",
    "    ap_df = df.query(\"AP == @search\")\n",
    "    daily = df.query(\"timestamp > @start & timestamp < @end\")\n",
    "    if (end - start) > timedelta(days = 1):\n",
    "        daily = daily.groupby(pd.Grouper(key=\"timestamp\", freq=\"24H\"))\n",
    "        visits_day = daily.AP.count()\n",
    "        plot = visits_day.plot.bar(x = \"Days\", y = \"# of Visits/Month\", title = \"Amount of traffic per day\")\n",
    "    else:\n",
    "        hourly = daily.groupby(pd.Grouper(key=\"timestamp\", freq=\"1H\"))\n",
    "        visits_hour = hourly.AP.count()\n",
    "        plot = visits_hour.plot.bar(x = \"Hours\", y = \"# of Visits/Hour\", title = \"Amount of traffic per hour\")"
   ]
  }
 ],
 "metadata": {
  "kernelspec": {
   "display_name": "Python 3 (ipykernel)",
   "language": "python",
   "name": "python3"
  },
  "language_info": {
   "codemirror_mode": {
    "name": "ipython",
    "version": 3
   },
   "file_extension": ".py",
   "mimetype": "text/x-python",
   "name": "python",
   "nbconvert_exporter": "python",
   "pygments_lexer": "ipython3",
   "version": "3.10.6"
  }
 },
 "nbformat": 4,
 "nbformat_minor": 5
}
