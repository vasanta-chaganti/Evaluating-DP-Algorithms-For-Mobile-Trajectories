{
 "cells": [
  {
   "cell_type": "code",
   "execution_count": 1,
   "id": "bf0f6884",
   "metadata": {},
   "outputs": [],
   "source": [
    "import numpy as np\n",
    "import networkx as nx\n",
    "\n",
    "import scipy.optimize\n",
    "import scipy.interpolate\n",
    "import scipy.special\n",
    "\n",
    "import sys\n",
    "import os\n",
    "import pandas as pd\n",
    "import matplotlib.pyplot as plt\n",
    "import random\n",
    "import matplotlib.colors as mcolors\n",
    "\n",
    "from relm.mechanisms import LaplaceMechanism"
   ]
  },
  {
   "cell_type": "code",
   "execution_count": 2,
   "id": "91faa0cc",
   "metadata": {},
   "outputs": [],
   "source": [
    "df = pd.DataFrame\n",
    "df = pd.read_csv(\"/local/2014-03-03-am.csv\", header='infer')"
   ]
  },
  {
   "cell_type": "markdown",
   "id": "49ee86b3",
   "metadata": {},
   "source": [
    "## Try undirected graph"
   ]
  },
  {
   "cell_type": "code",
   "execution_count": 6,
   "id": "2cb12773",
   "metadata": {},
   "outputs": [
    {
     "name": "stdout",
     "output_type": "stream",
     "text": [
      "Number of clients:  500\n"
     ]
    }
   ],
   "source": [
    "ids = df[\"client\"].unique()\n",
    "graphs = []\n",
    "n = 500\n",
    "print(\"Number of clients: \", n)\n",
    "for id in ids[:n]:\n",
    "    one_client = df.query('client == @id')\n",
    "    one_client=one_client.rename(columns = {'Unnamed: 0':'indx'})\n",
    "\n",
    "    g = nx.empty_graph(0, nx.Graph()) #initialize an empty graph\n",
    "\n",
    "    indeces = one_client['indx'].values.tolist()\n",
    "    counter = 0\n",
    "\n",
    "    for i in range(len(indeces)-1):\n",
    "        a = one_client.loc[one_client['indx'] == indeces[i], 'AP']\n",
    "        b = one_client.loc[one_client['indx'] == indeces[i+1], 'AP']\n",
    "        g.add_edges_from(zip(a, b), label = id, node_size=70)\n",
    "        counter += 1\n",
    "    #pos=nx.get_node_attributes(G,'pos')\n",
    "    #labels = nx.get_edge_attributes(G,'weight')\n",
    "    graphs.append(g)\n",
    "      \n",
    "G = graphs[0]\n",
    "nx.set_edge_attributes(G, 'red', 'color')\n",
    "for i in range(1, len(graphs)):\n",
    "    random_color = random.choice(list(mcolors.CSS4_COLORS.keys()))\n",
    "    curr = graphs[i]\n",
    "    nx.set_edge_attributes(curr, random_color, 'color')\n",
    "    #edges = curr.edges()\n",
    "    G = nx.compose(G,curr)"
   ]
  },
  {
   "cell_type": "code",
   "execution_count": 7,
   "id": "c3dc3e01",
   "metadata": {},
   "outputs": [
    {
     "name": "stdout",
     "output_type": "stream",
     "text": [
      "Number of nodes: 735\n"
     ]
    }
   ],
   "source": [
    "n = G.number_of_nodes()\n",
    "print(\"Number of nodes:\", n)"
   ]
  },
  {
   "cell_type": "code",
   "execution_count": 8,
   "id": "06d7e292",
   "metadata": {},
   "outputs": [],
   "source": [
    "def exact_count(G, h):\n",
    "    \"\"\"\n",
    "    Compute the exact value of a query which is linear in the degree distribution of G\n",
    "    \n",
    "    Parameters:\n",
    "        G: An undirected graph\n",
    "        h: An array describing a query which is linear in the degree distribution of G\n",
    "        \n",
    "    Returns:\n",
    "        The exact value of the query evaluated on G.\n",
    "    \"\"\"\n",
    "    x = np.arange(len(h))\n",
    "    h_fun = scipy.interpolate.interp1d(x, h)\n",
    "    degree_histogram = np.array(nx.degree_histogram(G))\n",
    "    exact_count = degree_histogram @ h_fun(np.arange(len(degree_histogram)))\n",
    "    return exact_count"
   ]
  },
  {
   "cell_type": "code",
   "execution_count": 9,
   "id": "5b83755d",
   "metadata": {},
   "outputs": [],
   "source": [
    "# Edge count\n",
    "h_edge = np.arange(n+1) / 2.0\n",
    "edge_count = exact_count(G, h_edge)\n",
    "\n",
    "# Node count\n",
    "h_node = np.ones(n+1)\n",
    "node_count = exact_count(G, h_node)\n",
    "\n",
    "# kstar count\n",
    "k = 3\n",
    "h_kstar = scipy.special.comb(np.arange(n+1), k)\n",
    "kstar_count = exact_count(G, h_kstar)"
   ]
  },
  {
   "cell_type": "code",
   "execution_count": 10,
   "id": "fdef55f6",
   "metadata": {},
   "outputs": [],
   "source": [
    "def build_flow_graph(G, D):\n",
    "    \"\"\"\n",
    "    Build a flow graph for G\n",
    "    \n",
    "    Parameters:\n",
    "        G: An undirected graph\n",
    "        D: The capacity for edges between nodes of G and\n",
    "           the source/sink nodes in the flow graph\n",
    "           \n",
    "    Returns:\n",
    "        A flow graph whose max flow yields an approximate query response\n",
    "    \"\"\"\n",
    "    V_left = list(zip([\"left\"] * len(G), G.nodes()))\n",
    "    V_right = list(zip([\"right\"] * len(G), G.nodes()))\n",
    "    F = nx.DiGraph()\n",
    "    F.add_nodes_from(V_left)\n",
    "    F.add_nodes_from(V_right)\n",
    "    F.add_nodes_from(\"st\")\n",
    "    F.add_weighted_edges_from([(\"s\", vl, D) for vl in V_left], weight=\"capacity\")\n",
    "    F.add_weighted_edges_from([(vr, \"t\", D) for vr in V_right], weight=\"capacity\")\n",
    "    F.add_weighted_edges_from(\n",
    "        [((\"left\", u), (\"right\", v), 1) for u, v in G.edges()], weight=\"capacity\"\n",
    "    )\n",
    "    F.add_weighted_edges_from(\n",
    "        [((\"left\", v), (\"right\", u), 1) for u, v in G.edges()], weight=\"capacity\"\n",
    "    )\n",
    "    return F"
   ]
  },
  {
   "cell_type": "code",
   "execution_count": 11,
   "id": "4da3b13e",
   "metadata": {},
   "outputs": [
    {
     "name": "stdout",
     "output_type": "stream",
     "text": [
      "1472\n"
     ]
    }
   ],
   "source": [
    "D = n-1\n",
    "F = build_flow_graph(G, D)\n",
    "print(F.number_of_nodes())"
   ]
  },
  {
   "cell_type": "code",
   "execution_count": 12,
   "id": "1347abaa",
   "metadata": {},
   "outputs": [],
   "source": [
    "def bounded_degree_quasiflow(F, h, D):\n",
    "    \"\"\"\n",
    "    Parameters:\n",
    "        G: An undirected graph\n",
    "        h: An array describing a query which is linear in the degree distribution of G\n",
    "        D: A bound on the capacities in the flow graph derived from G\n",
    "        \n",
    "    Returns:\n",
    "        The maximal value for \\max_{f \\in flows} \\sum{v \\in F} h(f(v))\n",
    "    \"\"\"\n",
    "    nodes = list(F.nodes())\n",
    "    edges = list(F.edges())\n",
    "    adjacency = np.zeros((len(nodes), len(edges)))\n",
    "    for j in range(len(edges)):\n",
    "        i0 = nodes.index(edges[j][0])\n",
    "        i1 = nodes.index(edges[j][1])\n",
    "        adjacency[i0, j] = -1\n",
    "        adjacency[i1, j] = 1\n",
    "\n",
    "    capacities = np.array([F.edges[e][\"capacity\"] for e in F.edges()])\n",
    "    x0 = np.random.random(capacities.size) * capacities\n",
    "    mask = np.array([(\"s\" in edge) for edge in edges])\n",
    "    bounds = [(0, capacity) for capacity in capacities]\n",
    "    constraint = scipy.optimize.LinearConstraint(adjacency[:-2], 0, 0)\n",
    "\n",
    "    x = np.arange(D + 1)\n",
    "    print(x.shape)\n",
    "    print(h[:D+1].shape)\n",
    "    h_fun = scipy.interpolate.interp1d(x, h[:D+1])\n",
    "    f = lambda x, *args: -np.sum(h_fun(x[tuple(args[0])]))\n",
    "    res = scipy.optimize.minimize(\n",
    "        fun=f, x0=x0, args=[mask], bounds=bounds, constraints=[constraint]\n",
    "    )\n",
    "    return -res.fun"
   ]
  },
  {
   "cell_type": "code",
   "execution_count": null,
   "id": "4b632f47",
   "metadata": {},
   "outputs": [
    {
     "name": "stdout",
     "output_type": "stream",
     "text": [
      "(735,)\n",
      "(735,)\n"
     ]
    }
   ],
   "source": [
    "# Edge count\n",
    "bd_quasiflow_edge = bounded_degree_quasiflow(F, h_edge, D)"
   ]
  },
  {
   "cell_type": "code",
   "execution_count": null,
   "id": "b5883a88",
   "metadata": {},
   "outputs": [],
   "source": [
    "# Node count\n",
    "bd_quasiflow_node = bounded_degree_quasiflow(F, h_node, D)"
   ]
  },
  {
   "cell_type": "code",
   "execution_count": null,
   "id": "241ee763",
   "metadata": {},
   "outputs": [],
   "source": [
    "# kstar count\n",
    "bd_quasiflow_kstar = bounded_degree_quasiflow(F, h_kstar, D)"
   ]
  },
  {
   "cell_type": "code",
   "execution_count": null,
   "id": "016f13e5",
   "metadata": {},
   "outputs": [],
   "source": [
    "# Create a differentially private release mechanism\n",
    "epsilon = 1.0\n",
    "\n",
    "# Edge count\n",
    "sensitivity_edge = np.max(h_edge[:(D+1)]) + np.max(h_edge[1:(D+1)] - h_edge[:D])\n",
    "mechanism_edge = LaplaceMechanism(epsilon=epsilon, sensitivity=sensitivity_edge)\n",
    "dp_edge_count = mechanism_edge.release(np.array([bd_quasiflow_edge]))\n",
    "\n",
    "# Node count\n",
    "sensitivity_node = np.max(h_node[:(D+1)]) + np.max(h_node[1:(D+1)] - h_node[:D])\n",
    "mechanism_node = LaplaceMechanism(epsilon=epsilon, sensitivity=sensitivity_node)\n",
    "dp_node_count = mechanism_node.release(np.array([bd_quasiflow_node]))\n",
    "\n",
    "# kstar count\n",
    "# Note: The sensitivity of the kstar count is much greater than that of the edge and node counts\n",
    "sensitivity_kstar = np.max(h_kstar[:(D+1)]) + np.max(h_kstar[1:(D+1)] - h_kstar[:D])\n",
    "mechanism_kstar = LaplaceMechanism(epsilon=epsilon, sensitivity=sensitivity_kstar)\n",
    "dp_kstar_count = mechanism_kstar.release(np.array([bd_quasiflow_kstar]))"
   ]
  },
  {
   "cell_type": "code",
   "execution_count": null,
   "id": "004d692f",
   "metadata": {},
   "outputs": [],
   "source": [
    "# Edge count\n",
    "print(\"Exact edge count = %f\" % edge_count)\n",
    "print(\"Approximate edge count = %f\" % bd_quasiflow_edge)\n",
    "print(\"Differentially private edge count = %f\\n\" % dp_edge_count)\n",
    "\n",
    "# Node count\n",
    "print(\"Exact node count = %f\" % node_count)\n",
    "print(\"Approximate node count = %f\" % bd_quasiflow_node)\n",
    "print(\"Differentially private node count = %f\\n\" % dp_node_count)\n",
    "\n",
    "# kstar count\n",
    "print(\"Exact %i-star count = %f\" % (k, kstar_count))\n",
    "print(\"Approximate %i-star count = %f\" % (k, bd_quasiflow_kstar))\n",
    "print(\"Differentially private %i-star count = %f\\n\" % (k, dp_kstar_count))"
   ]
  },
  {
   "cell_type": "code",
   "execution_count": null,
   "id": "f0196184",
   "metadata": {},
   "outputs": [],
   "source": []
  }
 ],
 "metadata": {
  "kernelspec": {
   "display_name": "Python 3 (ipykernel)",
   "language": "python",
   "name": "python3"
  },
  "language_info": {
   "codemirror_mode": {
    "name": "ipython",
    "version": 3
   },
   "file_extension": ".py",
   "mimetype": "text/x-python",
   "name": "python",
   "nbconvert_exporter": "python",
   "pygments_lexer": "ipython3",
   "version": "3.10.6"
  }
 },
 "nbformat": 4,
 "nbformat_minor": 5
}
