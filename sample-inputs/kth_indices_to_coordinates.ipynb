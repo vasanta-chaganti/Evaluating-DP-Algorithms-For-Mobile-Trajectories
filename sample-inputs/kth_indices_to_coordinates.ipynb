{
 "cells": [
  {
   "cell_type": "code",
   "execution_count": 1,
   "id": "d457254f",
   "metadata": {},
   "outputs": [],
   "source": [
    "import sys\n",
    "import os\n",
    "import numpy as np\n",
    "import pandas as pd\n",
    "import matplotlib.pyplot as plt"
   ]
  },
  {
   "cell_type": "code",
   "execution_count": 2,
   "id": "3bbd321b",
   "metadata": {},
   "outputs": [],
   "source": [
    "input_path = '/home/xli5/KTH-traces/KTH_data/kth_ngram_removed_rep_APs/'\n",
    "output_path = \"/home/xli5/KTH-traces/KTH_data/kth_ada_trace/ap_coords/\""
   ]
  },
  {
   "cell_type": "markdown",
   "id": "299eac3d",
   "metadata": {},
   "source": [
    "## AP Indices to Coordinates"
   ]
  },
  {
   "cell_type": "code",
   "execution_count": 3,
   "id": "fbd8da53",
   "metadata": {},
   "outputs": [],
   "source": [
    "ap_to_index_df = pd.read_csv('AP_to_index.txt')\n",
    "ap_locations_df = pd.read_csv('APlocations.txt')\n",
    "\n",
    "ap_df = pd.merge(ap_to_index_df, ap_locations_df, on='AP')\n",
    "ap_df.set_index('Index', inplace=True)\n",
    "ap_df.drop(['floor', 'AP'], axis=1, inplace=True)\n",
    "ap_df.to_csv('AP_index_to_coordinates.txt')"
   ]
  },
  {
   "cell_type": "code",
   "execution_count": 12,
   "id": "ba23ab4c",
   "metadata": {},
   "outputs": [],
   "source": [
    "'''\n",
    "This function takes in a file with AP indices and then output a x-y coordinate file\n",
    "'''\n",
    "def ap_to_coord(dat_file): #input as a dat file \n",
    "    full_input_path = input_path + dat_file + '.dat'\n",
    "    # Read the .dat file containing the trajectory data\n",
    "    with open(full_input_path, 'r') as file:\n",
    "        lines = file.readlines()\n",
    "\n",
    "    # Initialize an empty list to store the trajectory data for each person\n",
    "    trajectory_data = []\n",
    "\n",
    "    # Process each line to obtain the trajectory data for each person\n",
    "    for line in lines:\n",
    "        # Split the line into individual building numbers\n",
    "        ap_numbers = line.strip().split()\n",
    "\n",
    "        # Append the trajectory data for the current person to the list\n",
    "        trajectory_data.append(ap_numbers)\n",
    "\n",
    "    # Convert the list of trajectory data into a DataFrame\n",
    "    trajectory_df = pd.DataFrame(trajectory_data)\n",
    "\n",
    "\n",
    "    for row_index, row in trajectory_df.iterrows():\n",
    "        for col_index, val in row.iteritems():\n",
    "            if val:\n",
    "                val = int(val)\n",
    "                x_coord = ap_df.at[val, 'x_coordinate(m)']\n",
    "                y_coord = ap_df.at[val, 'y_coordinate(m)']\n",
    "                # Update df1 in place\n",
    "                trajectory_df.at[row_index, col_index] = (x_coord, y_coord)\n",
    "            else:\n",
    "                # Optionally handle or mark values that don't have a corresponding 'Index' in merged_df\n",
    "                trajectory_df.at[row_index, col_index] = None\n",
    "        \n",
    "    output_file = output_path + dat_file + '_output_coordinates.dat'\n",
    "\n",
    "    with open(output_file, 'w') as file:\n",
    "        for index, row in trajectory_df.iterrows():\n",
    "            file.write(f\"#{index}:\\n\")\n",
    "            file.write(f\">{0}:\")\n",
    "        \n",
    "            for location_set in row:\n",
    "                if pd.notnull(location_set):  # Check if the location_set is not NaN\n",
    "                    x_coordinate, y_coordinate = location_set\n",
    "                    file.write(f\"{x_coordinate},{y_coordinate};\")\n",
    "        \n",
    "            file.write(\"\\n\")\n"
   ]
  },
  {
   "cell_type": "code",
   "execution_count": 13,
   "id": "96833cf4",
   "metadata": {},
   "outputs": [
    {
     "name": "stdout",
     "output_type": "stream",
     "text": [
      "starting 03-03-1\n",
      "starting 03-03-2\n",
      "starting 04-28-1\n",
      "starting 04-28-2\n",
      "starting 09-15-1\n",
      "starting 09-15-2\n",
      "starting 12-08-1\n",
      "starting 12-08-2\n"
     ]
    }
   ],
   "source": [
    "dates = [\"03-03-1\", \"03-03-2\", \"04-28-1\", \"04-28-2\", \"09-15-1\", \"09-15-2\", \"12-08-1\", \"12-08-2\"]\n",
    "for d in dates:\n",
    "    print(\"starting\", d)\n",
    "    ap_to_coord(d)"
   ]
  },
  {
   "cell_type": "markdown",
   "id": "07db8bc4",
   "metadata": {},
   "source": [
    "## Building Indices to Coordinates"
   ]
  },
  {
   "cell_type": "code",
   "execution_count": 2,
   "id": "da909766",
   "metadata": {},
   "outputs": [],
   "source": [
    "building_info = {}\n",
    "\n",
    "with open('coordinates.dat', 'r') as file:\n",
    "    next(file)\n",
    "    for line in file:\n",
    "        building_number, x_coordinate, y_coordinate = line.strip().split(',')\n",
    "        building_info[int(building_number)] = (x_coordinate, y_coordinate)\n"
   ]
  },
  {
   "cell_type": "code",
   "execution_count": 6,
   "id": "f3657d1e",
   "metadata": {},
   "outputs": [],
   "source": [
    "'''\n",
    "This function takes in a file of building numbers and maps to x-y coordinates\n",
    "'''\n",
    "def building_to_coord(dat_file): #input as a dat file \n",
    "\n",
    "    # Read the .dat file containing the trajectory data\n",
    "    with open(dat_file, 'r') as file:\n",
    "        lines = file.readlines()\n",
    "    \n",
    "    # Initialize an empty list to store the trajectory data for each person\n",
    "    trajectory_data = []\n",
    "\n",
    "    # Process each line to obtain the trajectory data for each person\n",
    "    for line in lines:\n",
    "        # Split the line into individual building numbers\n",
    "        building_numbers = line.strip().split()\n",
    "    \n",
    "        # Convert building numbers from strings to integers\n",
    "        building_numbers = [int(building_number) for building_number in building_numbers]\n",
    "    \n",
    "        # Append the trajectory data for the current person to the list\n",
    "        trajectory_data.append(building_numbers)\n",
    "\n",
    "    # Convert the list of trajectory data into a DataFrame\n",
    "    trajectory_df = pd.DataFrame(trajectory_data)\n",
    "    \n",
    "    for column in trajectory_df.columns:\n",
    "        trajectory_df[column] = trajectory_df[column].map(building_info)\n",
    "        \n",
    "    output_file = 'output_coordinates.dat'\n",
    "\n",
    "    with open(output_file, 'w') as file:\n",
    "        for index, row in trajectory_df.iterrows():\n",
    "            file.write(f\"#{index}:\\n\")\n",
    "            file.write(f\">{0}:\")\n",
    "        \n",
    "            for location_set in row:\n",
    "                if pd.notnull(location_set):  # Check if the location_set is not NaN\n",
    "                    x_coordinate, y_coordinate = location_set\n",
    "                    file.write(f\"{x_coordinate},{y_coordinate};\")\n",
    "        \n",
    "            file.write(\"\\n\")\n"
   ]
  },
  {
   "cell_type": "code",
   "execution_count": 8,
   "id": "7d90297c",
   "metadata": {},
   "outputs": [],
   "source": [
    "building_to_coord(\"kth_ngram_building_indices/03-03-1.dat\")"
   ]
  },
  {
   "cell_type": "markdown",
   "id": "82f24a88",
   "metadata": {},
   "source": [
    "### Building-level trajectory re-generation"
   ]
  },
  {
   "cell_type": "code",
   "execution_count": 1,
   "id": "5e26ac90",
   "metadata": {},
   "outputs": [],
   "source": [
    "import sys\n",
    "import os\n",
    "import numpy as np\n",
    "import pandas as pd\n",
    "import matplotlib.pyplot as plt"
   ]
  },
  {
   "cell_type": "code",
   "execution_count": 2,
   "id": "04e137dc",
   "metadata": {},
   "outputs": [],
   "source": [
    "'''\n",
    "This function takes in a file of building numbers and maps to x-y coordinates\n",
    "'''\n",
    "def building_to_coord(dat_file, output_file): #input as a dat file \n",
    "\n",
    "    # Read the .dat file containing the trajectory data\n",
    "    with open(dat_file, 'r') as file:\n",
    "        lines = file.readlines()\n",
    "    \n",
    "    # Initialize an empty list to store the trajectory data for each person\n",
    "    trajectory_data = []\n",
    "\n",
    "    # Process each line to obtain the trajectory data for each person\n",
    "    for line in lines:\n",
    "        # Split the line into individual building numbers\n",
    "        building_numbers = line.strip().split()\n",
    "    \n",
    "        # Convert building numbers from strings to integers\n",
    "        building_numbers = [int(building_number) for building_number in building_numbers]\n",
    "    \n",
    "        # Append the trajectory data for the current person to the list\n",
    "        trajectory_data.append(building_numbers)\n",
    "\n",
    "    # Convert the list of trajectory data into a DataFrame\n",
    "    trajectory_df = pd.DataFrame(trajectory_data)\n",
    "    \n",
    "    for column in trajectory_df.columns:\n",
    "        trajectory_df[column] = trajectory_df[column].map(building_info)\n",
    "\n",
    "    with open(output_file, 'w') as file:\n",
    "        for index, row in trajectory_df.iterrows():\n",
    "            file.write(f\"#{index}:\\n\")\n",
    "            file.write(f\">{0}:\")\n",
    "        \n",
    "            for location_set in row:\n",
    "                if pd.notnull(location_set):  # Check if the location_set is not NaN\n",
    "                    x_coordinate, y_coordinate = location_set\n",
    "                    file.write(f\"{x_coordinate},{y_coordinate};\")\n",
    "        \n",
    "            file.write(\"\\n\")"
   ]
  },
  {
   "cell_type": "code",
   "execution_count": 3,
   "id": "46389e6a",
   "metadata": {},
   "outputs": [
    {
     "name": "stdout",
     "output_type": "stream",
     "text": [
      "/home/zyuan1/research/KTH-traces/KTH_data/kth_new/indices/03-03.dat\n",
      "/home/zyuan1/research/KTH-traces/KTH_data/kth_new/indices/04-28.dat\n",
      "/home/zyuan1/research/KTH-traces/KTH_data/kth_new/indices/09-15.dat\n",
      "/home/zyuan1/research/KTH-traces/KTH_data/kth_new/indices/12-08.dat\n"
     ]
    }
   ],
   "source": [
    "import sys\n",
    "import os\n",
    "import numpy as np\n",
    "import pandas as pd\n",
    "import matplotlib.pyplot as plt\n",
    "\n",
    "building_info = {}\n",
    "\n",
    "with open('coordinates.dat', 'r') as file:\n",
    "    next(file)\n",
    "    for line in file:\n",
    "        building_number, x_coordinate, y_coordinate = line.strip().split(',')\n",
    "        building_info[int(building_number)] = (x_coordinate, y_coordinate)\n",
    "\n",
    "input_path = '/home/zyuan1/research/KTH-traces/KTH_data/kth_new/indices/'\n",
    "output_path = '/home/zyuan1/research/KTH-traces/KTH_data/kth_new/coords/'\n",
    "\n",
    "dates = [\"03-03\", \"04-28\", \"09-15\", \"12-08\"]\n",
    "for d in dates:\n",
    "    dat_file = input_path + d + '.dat'\n",
    "    output_file = output_path + d + '.dat'\n",
    "    print(dat_file)\n",
    "    building_to_coord(dat_file, output_file)"
   ]
  }
 ],
 "metadata": {
  "kernelspec": {
   "display_name": "Python 3 (ipykernel)",
   "language": "python",
   "name": "python3"
  },
  "language_info": {
   "codemirror_mode": {
    "name": "ipython",
    "version": 3
   },
   "file_extension": ".py",
   "mimetype": "text/x-python",
   "name": "python",
   "nbconvert_exporter": "python",
   "pygments_lexer": "ipython3",
   "version": "3.10.12"
  }
 },
 "nbformat": 4,
 "nbformat_minor": 5
}
