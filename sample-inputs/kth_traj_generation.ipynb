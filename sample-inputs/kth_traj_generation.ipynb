{
 "cells": [
  {
   "cell_type": "markdown",
   "id": "80d4d49d-e89f-4bf4-a1e1-a658b0f80ce6",
   "metadata": {},
   "source": [
    "# KTH Trajectory Generation Summaries"
   ]
  },
  {
   "cell_type": "markdown",
   "id": "06cb6c7e-6375-49a8-8891-d74585dfdf09",
   "metadata": {},
   "source": [
    "## 1. AP Mappings Generation"
   ]
  },
  {
   "cell_type": "markdown",
   "id": "78a4ed9f-f89d-4d6c-a8d2-cdad55a118f2",
   "metadata": {},
   "source": [
    "### 1.1. Generate AP to Index Mappings"
   ]
  },
  {
   "cell_type": "code",
   "execution_count": 2,
   "id": "b8279d0e-d74a-4ea9-91ac-387d12e594cd",
   "metadata": {},
   "outputs": [],
   "source": [
    "import pandas as pd\n",
    "\n",
    "def generate_mapping(input_path, output_path):\n",
    "    df = pd.read_csv(input_path)\n",
    "    unique_aps = pd.unique(df['AP'])\n",
    "    mapping = {ap: i+1 for i, ap in enumerate(unique_aps)}\n",
    "    \n",
    "    # Write the mapping to a .txt file\n",
    "    with open(output_path, 'w') as file:\n",
    "        file.write(f'AP,Index\\n')\n",
    "        for ap, index in mapping.items():\n",
    "            file.write(f'{ap},{index}\\n')"
   ]
  },
  {
   "cell_type": "code",
   "execution_count": 3,
   "id": "998195bf-3921-462c-80b3-58f8a0128684",
   "metadata": {},
   "outputs": [],
   "source": [
    "# Example Code:\n",
    "input_path = '/local/traceset1/APlocations.txt'\n",
    "output_path = '/home/xli5/KTH-traces/KTH_data/AP_to_index.txt'\n",
    "generate_mapping(input_path, output_path)"
   ]
  },
  {
   "cell_type": "markdown",
   "id": "2f80da67-cba3-4cf8-a015-157d2a640178",
   "metadata": {},
   "source": [
    "### 1.2. Generate AP to Building Index Mappings"
   ]
  },
  {
   "cell_type": "code",
   "execution_count": 5,
   "id": "b7d2c070-ce57-431f-8718-8760988d24e5",
   "metadata": {},
   "outputs": [],
   "source": [
    "import pandas as pd\n",
    "import re\n",
    "\n",
    "def generate_building_mapping(input_path, output_path):\n",
    "    df = pd.read_csv(input_path)\n",
    "    df['AP'] = df['AP'].str.strip()\n",
    "    \n",
    "    def extract_building_number(ap):\n",
    "        match = re.search(r'Bldg(\\d+)', ap)\n",
    "        if match:\n",
    "            return int(match.group(1))\n",
    "        else:\n",
    "            return None\n",
    "            \n",
    "    df['BuildingIndex'] = df['AP'].apply(extract_building_number)\n",
    "        \n",
    "    df_to_write = df[['AP', 'BuildingIndex']]\n",
    "    df_to_write.to_csv(output_path, sep=',', index=False)"
   ]
  },
  {
   "cell_type": "code",
   "execution_count": 6,
   "id": "ae9bea1f-0ac9-46f3-8d99-5f69c329454e",
   "metadata": {},
   "outputs": [],
   "source": [
    "# Example Code:\n",
    "input_path = '/local/traceset1/APlocations.txt'\n",
    "output_path = '/home/zyuan1/KTH-traces/KTH_data/AP_to_building.txt'\n",
    "generate_building_mapping(input_path, output_path)"
   ]
  },
  {
   "cell_type": "markdown",
   "id": "d269f0e3-d1a1-4495-99ea-58b64f816f55",
   "metadata": {},
   "source": [
    "### 1.3. Import Mappings"
   ]
  },
  {
   "cell_type": "code",
   "execution_count": 1,
   "id": "e2c910b3-283c-4e2c-8d53-a3992609fd36",
   "metadata": {},
   "outputs": [],
   "source": [
    "import pandas as pd\n",
    "import numpy as np\n",
    "import matplotlib.pyplot as plt\n",
    "\n",
    "# Read in mappings:\n",
    "ap_to_building = pd.read_csv(\"/home/zyuan1/research/KTH-traces/KTH_data/AP_to_building.txt\", sep = ',', skiprows=1, names=['AP', 'Index'])\n",
    "ap_to_index = pd.read_csv(\"/home/zyuan1/research/KTH-traces/KTH_data/AP_to_index.txt\", sep = ',', skiprows=1, names=['AP', 'Index'], engine='python')\n",
    "ap_to_building['AP'] = ap_to_building['AP'].str.strip()\n",
    "ap_to_index['AP'] = ap_to_index['AP'].str.strip()"
   ]
  },
  {
   "cell_type": "markdown",
   "id": "9c402703-a971-44c4-9e98-b9c7ddcbea33",
   "metadata": {},
   "source": [
    "## 2. Trajectory Generations"
   ]
  },
  {
   "cell_type": "markdown",
   "id": "98933faa-cd96-4c8a-9467-0b35b807221a",
   "metadata": {},
   "source": [
    "### 2.1. Convert .csv to .dat trajectories\n",
    "* Inputs:\n",
    "    * input_path: specify month\n",
    "    * output_path: where to write the file\n",
    "    * mapping: a dataframe that maps AP to indices (with or without building agglomeration); contains two columns: AP, and Index\n",
    "    * start: start time\n",
    "    * end: end time\n",
    "* Output:\n",
    "    * output_path.dat file comprised of trajectories sequences, one per line"
   ]
  },
  {
   "cell_type": "code",
   "execution_count": 2,
   "id": "e17e0dbf-e229-4657-bd9b-7851f2a85312",
   "metadata": {},
   "outputs": [],
   "source": [
    "def generate_traj(input_path, output_path, mapping, start, end):\n",
    "    df = pd.read_csv(input_path)\n",
    "    df = pd.merge(df, mapping, on = 'AP', how = 'left')\n",
    "    df = df.dropna(subset=['AP'])\n",
    "    df['Index'] = df['Index'].astype(int)\n",
    "    df['timestamp'] = pd.to_datetime(df['timestamp'].copy())\n",
    "    start1 = pd.to_datetime(start)\n",
    "    end1 = pd.to_datetime(end)\n",
    "    mask = (start1 < df['timestamp']) & (df['timestamp'] < end1)\n",
    "    df = df.loc[mask]\n",
    "    df_grouped = df.groupby('client')['Index'].apply(lambda x: ' '.join(map(str, x)))\n",
    "    df_grouped = df_grouped.reset_index()\n",
    "    df_grouped = df_grouped.rename(columns={'Index': 'Seq'})\n",
    "    # df_grouped.to_csv(f'./data/kth_data/{start}.csv', index=False)\n",
    "    with open(f'{output_path}.dat', 'w') as file:\n",
    "        for index in df_grouped['Seq']:\n",
    "            file.write(index + '\\n')"
   ]
  },
  {
   "cell_type": "markdown",
   "id": "a2ee70c3-2cc1-4b0e-9c7c-0508388954f6",
   "metadata": {},
   "source": [
    "### 2.2. Convert .csv to .dat trajectories; Removed repetitive APs\n",
    "* Inputs:\n",
    "    * input_path: specify month\n",
    "    * output_path: where to write the file\n",
    "    * mapping: a dataframe that maps AP to indices (with or without building agglomeration); contains two columns: AP, and Index\n",
    "    * start: start time\n",
    "    * end: end time\n",
    "* Output:\n",
    "    * output_path.dat file comprised of trajectories sequences, one per line"
   ]
  },
  {
   "cell_type": "code",
   "execution_count": 3,
   "id": "909997b9-360d-493c-aa45-0f18973fe4f5",
   "metadata": {},
   "outputs": [],
   "source": [
    "def generate_traj_r(input_path, output_path, mapping, start, end):\n",
    "    df = pd.read_csv(input_path)\n",
    "    df = pd.merge(df, mapping, on = 'AP', how = 'left')\n",
    "    df = df.dropna(subset=['AP'])\n",
    "    df['Index'] = df['Index'].astype(int)\n",
    "    df['timestamp'] = pd.to_datetime(df['timestamp'].copy())\n",
    "    start1 = pd.to_datetime(start)\n",
    "    end1 = pd.to_datetime(end)\n",
    "    mask = (start1 < df['timestamp']) & (df['timestamp'] < end1)\n",
    "    df = df.loc[mask]\n",
    "\n",
    "    # Group by client and iterate over each group\n",
    "    def process_group(group):\n",
    "        last_location = None\n",
    "        reduced_sequence = []\n",
    "        for location in group:\n",
    "            if location != last_location:\n",
    "                reduced_sequence.append(location)\n",
    "            last_location = location\n",
    "        return ' '.join(map(str, reduced_sequence))\n",
    "\n",
    "    df_grouped = df.groupby('client')['Index'].apply(process_group)\n",
    "    df_grouped = df_grouped.reset_index()\n",
    "    df_grouped = df_grouped.rename(columns={'Index': 'Seq'})\n",
    "\n",
    "    # Save only the 'Seq' column as a CSV\n",
    "    # df_grouped['Seq'].to_csv(f'./data/kth_data/{name}.dat', index=False, header=False)\n",
    "\n",
    "    with open(f'{output_path}.dat', 'w') as file:\n",
    "        for index in df_grouped['Seq']:\n",
    "            file.write(index + '\\n')"
   ]
  },
  {
   "cell_type": "code",
   "execution_count": 13,
   "id": "5a2cd7dd-441e-4b03-be8c-2da050d2b399",
   "metadata": {},
   "outputs": [],
   "source": [
    "# Example code:\n",
    "input_path = \"/local/traceset1/2014_09.csv\"\n",
    "output_path = '/home/xli5/KTH-traces/KTH_data/kth_ngram_removed_rep_APs/'\n",
    "generate_traj_r(input_path, output_path+'09-15-1', ap_to_index, '2014-09-15 00:00:00', '2014-09-15 11:59:59')\n",
    "generate_traj_r(input_path, output_path+'09-15-2', ap_to_index, '2014-09-15 12:00:00', '2014-09-15 23:59:59')"
   ]
  },
  {
   "cell_type": "markdown",
   "id": "1992ae19",
   "metadata": {},
   "source": [
    "#### 2.2.2 Convert .csv to .dat trajectories; Removed repetitive APs; dropped trajectories of 1 point\n",
    "* Inputs:\n",
    "    * input_path: specify month\n",
    "    * output_path: where to write the file\n",
    "    * mapping: a dataframe that maps AP to indices (with or without building agglomeration); contains two columns: AP, and Index\n",
    "    * start: start time\n",
    "    * end: end time\n",
    "* Output:\n",
    "    * output_path.dat file comprised of trajectories sequences, one per line"
   ]
  },
  {
   "cell_type": "code",
   "execution_count": 2,
   "id": "a8d27e6f",
   "metadata": {},
   "outputs": [],
   "source": [
    "def generate_traj_r_2(input_path, output_path, mapping, start, end):\n",
    "    df = pd.read_csv(input_path)\n",
    "    df = pd.merge(df, mapping, on = 'AP', how = 'left')\n",
    "    df = df.dropna(subset=['AP'])\n",
    "    df['Index'] = df['Index'].astype(int)\n",
    "    df['timestamp'] = pd.to_datetime(df['timestamp'].copy())\n",
    "    start1 = pd.to_datetime(start)\n",
    "    end1 = pd.to_datetime(end)\n",
    "    mask = (start1 < df['timestamp']) & (df['timestamp'] < end1)\n",
    "    df = df.loc[mask]\n",
    "\n",
    "    # Group by client and iterate over each group\n",
    "    def process_group(group):\n",
    "        last_location = None\n",
    "        reduced_sequence = []\n",
    "        for location in group:\n",
    "            if location != last_location:\n",
    "                reduced_sequence.append(location)\n",
    "            last_location = location\n",
    "        if len(reduced_sequence) > 1:\n",
    "          return ' '.join(map(str, reduced_sequence))\n",
    "        return None\n",
    "\n",
    "    df_grouped = df.groupby('client')['Index'].apply(process_group)\n",
    "    df_grouped = df_grouped.dropna()  # Drop groups with None (single location trajectories)\n",
    "    df_grouped = df_grouped.reset_index()\n",
    "    df_grouped = df_grouped.rename(columns={'Index': 'Seq'})\n",
    "    \n",
    "    with open(f'{output_path}.dat', 'w') as file:\n",
    "        for index in df_grouped['Seq']:\n",
    "            file.write(index + '\\n')"
   ]
  },
  {
   "cell_type": "code",
   "execution_count": 7,
   "id": "ff3f4429",
   "metadata": {},
   "outputs": [],
   "source": [
    "# Example code:\n",
    "input_path = \"/local/traceset1/2014_12.csv\"\n",
    "output_path = '/home/zyuan1/research/KTH-traces/KTH_data/kth_new/'\n",
    "generate_traj_r_2(input_path, output_path+'12-08', ap_to_building, '2014-12-08 00:00:00', '2014-12-08 23:59:59')"
   ]
  },
  {
   "cell_type": "markdown",
   "id": "05e692a2-bf95-444f-be8c-cb66230f6855",
   "metadata": {},
   "source": [
    "### 2.3. Find Threshold for Low Counts AP"
   ]
  },
  {
   "cell_type": "markdown",
   "id": "b0037f75-4e45-4563-942a-3505e943c3da",
   "metadata": {},
   "source": [
    "#### 2.3.1. Histogram plots\n",
    "* Inputs:\n",
    "    * an raw trajectory file: one trajectory per line\n",
    "* Outputs:\n",
    "    * a histogram "
   ]
  },
  {
   "cell_type": "code",
   "execution_count": 10,
   "id": "4df3325b-fc8d-4d4b-ad90-0b5643622563",
   "metadata": {},
   "outputs": [],
   "source": [
    "import pandas as pd\n",
    "import matplotlib.pyplot as plt\n",
    "\n",
    "def plot_density_actual(filename):\n",
    "    # Read the .dat file\n",
    "    with open(filename, 'r') as f:\n",
    "        lines = f.readlines()\n",
    "\n",
    "    # Split the lines into individual AP indices and create a DataFrame\n",
    "    ap_indices = [int(index) for line in lines for index in line.split()]\n",
    "    data = pd.DataFrame(ap_indices, columns=[\"AP\"])\n",
    "\n",
    "    # Calculate frequency count\n",
    "    freq_count = data[\"AP\"].value_counts()\n",
    "\n",
    "    # Plot the density histogram\n",
    "    plt.figure(figsize=(10, 6))\n",
    "    plt.hist(freq_count, density=True, bins=100, alpha=0.75, edgecolor='black')\n",
    "    \n",
    "    plt.xlabel(\"Number of Visits\")  # Label x-axis\n",
    "    plt.ylabel(\"Density\")  # Label y-axis\n",
    "    plt.title(\"Density Plot of Number of Visits to Each AP\")\n",
    "    plt.show()"
   ]
  },
  {
   "cell_type": "code",
   "execution_count": 11,
   "id": "dc628a8e-b8c8-4b2d-946c-c5ce4954ff91",
   "metadata": {},
   "outputs": [
    {
     "data": {
      "image/png": "[encoded data removed]",
      "text/plain": [
       "<Figure size 1000x600 with 1 Axes>"
      ]
     },
     "metadata": {},
     "output_type": "display_data"
    }
   ],
   "source": [
    "# Example code:\n",
    "path = '/home/zyuan1/research/KTH-traces/KTH_data/kth_ngram_og_traj/09-15-1.dat'\n",
    "plot_density_actual(path)"
   ]
  },
  {
   "cell_type": "markdown",
   "id": "06f809ca-ab26-4f2d-9e6b-7a0ba11971d6",
   "metadata": {},
   "source": [
    "#### 2.3.2. Quantile filter\n",
    "* Inputs:\n",
    "    * filename: an raw trajectory file: one trajectory per line\n",
    "    * x: percentage\n",
    "* Outputs:\n",
    "    * a threshold of visits such that x part of the AP visits are below the threshold"
   ]
  },
  {
   "cell_type": "code",
   "execution_count": 12,
   "id": "87c23bbd-f60d-45d0-b1e2-7620014269c8",
   "metadata": {},
   "outputs": [],
   "source": [
    "import pandas as pd\n",
    "import matplotlib.pyplot as plt\n",
    "\n",
    "def calculate_threshold(filename, x):\n",
    "    # Read the .dat file\n",
    "    with open(filename, 'r') as f:\n",
    "        lines = f.readlines()\n",
    "\n",
    "    # Split the lines into individual AP indices and create a DataFrame\n",
    "    ap_indices = [int(index) for line in lines for index in line.split()]\n",
    "    data = pd.DataFrame(ap_indices, columns=[\"AP\"])\n",
    "\n",
    "    # Calculate frequency count\n",
    "    freq_count = data[\"AP\"].value_counts()\n",
    "\n",
    "    # Calculate threshold value\n",
    "    threshold = freq_count.quantile(x)\n",
    "    \n",
    "    return threshold"
   ]
  },
  {
   "cell_type": "code",
   "execution_count": 13,
   "id": "fc0faca5-4c54-4837-8fc1-b681fc4ed22a",
   "metadata": {},
   "outputs": [
    {
     "name": "stdout",
     "output_type": "stream",
     "text": [
      "The threshold value for the bottom 10% of visits is: 18.0\n",
      "The threshold value for the bottom 20% of visits is: 35.0\n",
      "The threshold value for the bottom 25% of visits is: 43.0\n"
     ]
    }
   ],
   "source": [
    "# Example code:\n",
    "path = '/home/zyuan1/research/KTH-traces/KTH_data/kth_ngram_og_traj/04-28-1.dat'\n",
    "threshold = calculate_threshold(path, 0.1)\n",
    "print(f\"The threshold value for the bottom 10% of visits is: {threshold}\")\n",
    "threshold = calculate_threshold(path, 0.2)\n",
    "print(f\"The threshold value for the bottom 20% of visits is: {threshold}\")\n",
    "threshold = calculate_threshold(path, 0.25)\n",
    "print(f\"The threshold value for the bottom 25% of visits is: {threshold}\")"
   ]
  },
  {
   "cell_type": "markdown",
   "id": "98ba6c2b-813d-4eeb-878b-dc015ae86d8a",
   "metadata": {},
   "source": [
    "### 2.4. Drop Low Counts AP in .cvs and Generate Trajectories"
   ]
  },
  {
   "cell_type": "code",
   "execution_count": 8,
   "id": "90073931-1693-4be9-8c12-b4af90c115c1",
   "metadata": {},
   "outputs": [],
   "source": [
    "import pandas as pd\n",
    "def generate_traj_dropped(input_path, output_path, mapping, start, end, threshold):\n",
    "    df = pd.read_csv(input_path)\n",
    "    df = pd.merge(df, mapping, on = 'AP', how = 'left')\n",
    "    df = df.dropna(subset=['AP'])\n",
    "    df['Index'] = df['Index'].astype(int)\n",
    "    df['timestamp'] = pd.to_datetime(df['timestamp'].copy())\n",
    "    start1 = pd.to_datetime(start)\n",
    "    end1 = pd.to_datetime(end)\n",
    "    mask = (start1 < df['timestamp']) & (df['timestamp'] < end1)\n",
    "    df = df.loc[mask]\n",
    "\n",
    "    # Calculate frequency count of each AP\n",
    "    freq_count = df['Index'].value_counts().reset_index().rename(columns={\"count\":\"Count\"})\n",
    "\n",
    "    # return freq_count\n",
    "    # Split into two dataframes: APs to drop and APs to keep\n",
    "    drop_df = freq_count[freq_count['Count'] < threshold]\n",
    "    keep_df = freq_count[freq_count['Count'] >= threshold]\n",
    "\n",
    "    # Remove APs with a count below the threshold\n",
    "    df = df[df['Index'].isin(keep_df['Index'])]\n",
    "\n",
    "    df_grouped = df.groupby('client')['Index'].apply(lambda x: ' '.join(map(str, x)))\n",
    "    df_grouped = df_grouped.reset_index()\n",
    "    df_grouped = df_grouped.rename(columns={'Index': 'Seq'})\n",
    "    with open(f'{output_path}.dat', 'w') as file:\n",
    "        for index in df_grouped['Seq']:\n",
    "            file.write(index + '\\n')\n",
    "\n",
    "    return drop_df, keep_df"
   ]
  },
  {
   "cell_type": "code",
   "execution_count": null,
   "id": "7d8f3e54-6c56-40a6-a6a4-bc88e5df5047",
   "metadata": {},
   "outputs": [],
   "source": [
    "# Example code:\n",
    "input_path = \"/local/traceset1/2014_12.csv\"\n",
    "output_path = '/home/zyuan1/research/KTH-traces/KTH_data/kth_ngram_dropped_APs/'\n",
    "day = '12-08'\n",
    "threshold = 15\n",
    "drop_df1, keep_df1 = generate_traj_dropped(input_path, f'{output_path}{day}-1-threshold-{threshold}', ap_to_index, f'2014-{day} 00:00:00', f'2014-{day} 11:59:59', threshold)\n",
    "drop_df2, keep_df2 = generate_traj_dropped(input_path, f'{output_path}{day}-2-threshold-{threshold}', ap_to_index, f'2014-{day} 12:00:00', f'2014-{day} 23:59:59', threshold)"
   ]
  },
  {
   "cell_type": "markdown",
   "id": "6bc7c3df-ba94-473f-899d-75e6894d31e1",
   "metadata": {},
   "source": [
    "### 2.5. Drop Low Counts AP, Removed Repetitive APs, and Generate Trajectories"
   ]
  },
  {
   "cell_type": "code",
   "execution_count": 9,
   "id": "68ccdf31-b413-4b04-bf73-af821bd47beb",
   "metadata": {},
   "outputs": [],
   "source": [
    "import pandas as pd\n",
    "def generate_traj_dropped_removed(input_path, output_path, mapping, start, end, threshold):\n",
    "    df = pd.read_csv(input_path)\n",
    "    df = pd.merge(df, mapping, on = 'AP', how = 'left')\n",
    "    df = df.dropna(subset=['AP'])\n",
    "    df['Index'] = df['Index'].astype(int)\n",
    "    df['timestamp'] = pd.to_datetime(df['timestamp'].copy())\n",
    "    start1 = pd.to_datetime(start)\n",
    "    end1 = pd.to_datetime(end)\n",
    "    mask = (start1 < df['timestamp']) & (df['timestamp'] < end1)\n",
    "    df = df.loc[mask]\n",
    "\n",
    "    # Calculate frequency count of each AP\n",
    "    freq_count = df['Index'].value_counts().reset_index().rename(columns={\"count\":\"Count\"})\n",
    "\n",
    "    # return freq_count\n",
    "    # Split into two dataframes: APs to drop and APs to keep\n",
    "    drop_df = freq_count[freq_count['Count'] < threshold]\n",
    "    keep_df = freq_count[freq_count['Count'] >= threshold]\n",
    "\n",
    "    # Remove APs with a count below the threshold\n",
    "    df = df[df['Index'].isin(keep_df['Index'])]\n",
    "\n",
    "    # Group by client and iterate over each group\n",
    "    def process_group(group):\n",
    "        last_location = None\n",
    "        reduced_sequence = []\n",
    "        for location in group:\n",
    "            if location != last_location:\n",
    "                reduced_sequence.append(location)\n",
    "            last_location = location\n",
    "        return ' '.join(map(str, reduced_sequence))\n",
    "\n",
    "    df_grouped = df.groupby('client')['Index'].apply(process_group)\n",
    "    df_grouped = df_grouped.reset_index()\n",
    "    df_grouped = df_grouped.rename(columns={'Index': 'Seq'})\n",
    "    with open(f'{output_path}.dat', 'w') as file:\n",
    "        for index in df_grouped['Seq']:\n",
    "            file.write(index + '\\n')\n",
    "\n",
    "    return drop_df, keep_df"
   ]
  },
  {
   "cell_type": "code",
   "execution_count": null,
   "id": "e4c083c3-1c3b-4027-a19b-1034196fe75b",
   "metadata": {},
   "outputs": [],
   "source": [
    "# Example code:\n",
    "input_path = \"/local/traceset1/2014_12.csv\"\n",
    "output_path = '/home/zyuan1/research/KTH-traces/KTH_data/kth_ngram_dropped_APs_nonrep/'\n",
    "day = '12-08'\n",
    "threshold = 15\n",
    "drop_df1, keep_df1 = generate_traj_dropped_removed(input_path, f'{output_path}{day}-1-threshold-{threshold}', ap_to_index, f'2014-{day} 00:00:00', f'2014-{day} 11:59:59', threshold)\n",
    "drop_df2, keep_df2 = generate_traj_dropped_removed(input_path, f'{output_path}{day}-2-threshold-{threshold}', ap_to_index, f'2014-{day} 12:00:00', f'2014-{day} 23:59:59', threshold)"
   ]
  }
 ],
 "metadata": {
  "kernelspec": {
   "display_name": "Python 3 (ipykernel)",
   "language": "python",
   "name": "python3"
  },
  "language_info": {
   "codemirror_mode": {
    "name": "ipython",
    "version": 3
   },
   "file_extension": ".py",
   "mimetype": "text/x-python",
   "name": "python",
   "nbconvert_exporter": "python",
   "pygments_lexer": "ipython3",
   "version": "3.10.12"
  }
 },
 "nbformat": 4,
 "nbformat_minor": 5
}
